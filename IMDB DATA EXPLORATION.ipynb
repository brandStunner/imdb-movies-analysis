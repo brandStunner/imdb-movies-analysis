{
 "cells": [
  {
   "cell_type": "markdown",
   "id": "7f1218ae",
   "metadata": {},
   "source": [
    "# Project: IDBM Dataset Analysis\n",
    "\n",
    " ## Table of Content\n",
    "- Introduction\n",
    "- Data Wraggling\n",
    "- Exploratory Data Analysis\n",
    "- Conclusion\n",
    "\n",
    "\n",
    "\n",
    "\n",
    "### 1. ## Top 5 grossed movies\n",
    "### 2.  Highest Average Revenue By Year\n",
    "### 2a. Highest Average Revenue By Year\n",
    "###  Factors that may affect revenue\n",
    "### 4. What kinds of properties are associated with movies that have high revenues?\n",
    "### 3. Directors with high revenue movies\n",
    "### 4.Top Rated Directors by Vote\n",
    "### 5. Top Rated Directors by Vote\n",
    "### 5. Which year has most movies released and did those year generated the most revenue?\n",
    "### 7. Which year has most movies released\n",
    "### 6. What are the top 10 most lenghty movies\n",
    "### 7. Year with highest voting Participants\n",
    "### 8. Who are the most featured actors or actresses"
   ]
  },
  {
   "cell_type": "code",
   "execution_count": 494,
   "id": "e2644bba",
   "metadata": {},
   "outputs": [],
   "source": [
    "#importing dependables\n",
    "\n",
    "import pandas as pd\n",
    "import numpy as np\n",
    "import matplotlib.pyplot as plt \n",
    "import seaborn as sns\n",
    "%matplotlib inline\n",
    "import operator\n",
    "import warnings\n",
    "warnings.filterwarnings('ignore')  ## to turn off warnings that are not needed\n",
    "pd.options.display.float_format = '{:,.2f}'.format ## to round lots of decimal places to just two\n",
    "\n"
   ]
  },
  {
   "cell_type": "markdown",
   "id": "f82115bf",
   "metadata": {},
   "source": [
    "## General Properties of Dataset"
   ]
  },
  {
   "cell_type": "code",
   "execution_count": 495,
   "id": "c7c68626",
   "metadata": {},
   "outputs": [
    {
     "data": {
      "text/html": [
       "<div>\n",
       "<style scoped>\n",
       "    .dataframe tbody tr th:only-of-type {\n",
       "        vertical-align: middle;\n",
       "    }\n",
       "\n",
       "    .dataframe tbody tr th {\n",
       "        vertical-align: top;\n",
       "    }\n",
       "\n",
       "    .dataframe thead th {\n",
       "        text-align: right;\n",
       "    }\n",
       "</style>\n",
       "<table border=\"1\" class=\"dataframe\">\n",
       "  <thead>\n",
       "    <tr style=\"text-align: right;\">\n",
       "      <th></th>\n",
       "      <th>id</th>\n",
       "      <th>imdb_id</th>\n",
       "      <th>popularity</th>\n",
       "      <th>budget</th>\n",
       "      <th>revenue</th>\n",
       "      <th>original_title</th>\n",
       "      <th>cast</th>\n",
       "      <th>homepage</th>\n",
       "      <th>director</th>\n",
       "      <th>tagline</th>\n",
       "      <th>...</th>\n",
       "      <th>overview</th>\n",
       "      <th>runtime</th>\n",
       "      <th>genres</th>\n",
       "      <th>production_companies</th>\n",
       "      <th>release_date</th>\n",
       "      <th>vote_count</th>\n",
       "      <th>vote_average</th>\n",
       "      <th>release_year</th>\n",
       "      <th>budget_adj</th>\n",
       "      <th>revenue_adj</th>\n",
       "    </tr>\n",
       "  </thead>\n",
       "  <tbody>\n",
       "    <tr>\n",
       "      <th>0</th>\n",
       "      <td>135397</td>\n",
       "      <td>tt0369610</td>\n",
       "      <td>32.99</td>\n",
       "      <td>150000000</td>\n",
       "      <td>1513528810</td>\n",
       "      <td>Jurassic World</td>\n",
       "      <td>Chris Pratt|Bryce Dallas Howard|Irrfan Khan|Vi...</td>\n",
       "      <td>http://www.jurassicworld.com/</td>\n",
       "      <td>Colin Trevorrow</td>\n",
       "      <td>The park is open.</td>\n",
       "      <td>...</td>\n",
       "      <td>Twenty-two years after the events of Jurassic ...</td>\n",
       "      <td>124</td>\n",
       "      <td>Action|Adventure|Science Fiction|Thriller</td>\n",
       "      <td>Universal Studios|Amblin Entertainment|Legenda...</td>\n",
       "      <td>6/9/15</td>\n",
       "      <td>5562</td>\n",
       "      <td>6.50</td>\n",
       "      <td>2015</td>\n",
       "      <td>137,999,939.28</td>\n",
       "      <td>1,392,445,892.52</td>\n",
       "    </tr>\n",
       "    <tr>\n",
       "      <th>1</th>\n",
       "      <td>76341</td>\n",
       "      <td>tt1392190</td>\n",
       "      <td>28.42</td>\n",
       "      <td>150000000</td>\n",
       "      <td>378436354</td>\n",
       "      <td>Mad Max: Fury Road</td>\n",
       "      <td>Tom Hardy|Charlize Theron|Hugh Keays-Byrne|Nic...</td>\n",
       "      <td>http://www.madmaxmovie.com/</td>\n",
       "      <td>George Miller</td>\n",
       "      <td>What a Lovely Day.</td>\n",
       "      <td>...</td>\n",
       "      <td>An apocalyptic story set in the furthest reach...</td>\n",
       "      <td>120</td>\n",
       "      <td>Action|Adventure|Science Fiction|Thriller</td>\n",
       "      <td>Village Roadshow Pictures|Kennedy Miller Produ...</td>\n",
       "      <td>5/13/15</td>\n",
       "      <td>6185</td>\n",
       "      <td>7.10</td>\n",
       "      <td>2015</td>\n",
       "      <td>137,999,939.28</td>\n",
       "      <td>348,161,292.49</td>\n",
       "    </tr>\n",
       "    <tr>\n",
       "      <th>2</th>\n",
       "      <td>262500</td>\n",
       "      <td>tt2908446</td>\n",
       "      <td>13.11</td>\n",
       "      <td>110000000</td>\n",
       "      <td>295238201</td>\n",
       "      <td>Insurgent</td>\n",
       "      <td>Shailene Woodley|Theo James|Kate Winslet|Ansel...</td>\n",
       "      <td>http://www.thedivergentseries.movie/#insurgent</td>\n",
       "      <td>Robert Schwentke</td>\n",
       "      <td>One Choice Can Destroy You</td>\n",
       "      <td>...</td>\n",
       "      <td>Beatrice Prior must confront her inner demons ...</td>\n",
       "      <td>119</td>\n",
       "      <td>Adventure|Science Fiction|Thriller</td>\n",
       "      <td>Summit Entertainment|Mandeville Films|Red Wago...</td>\n",
       "      <td>3/18/15</td>\n",
       "      <td>2480</td>\n",
       "      <td>6.30</td>\n",
       "      <td>2015</td>\n",
       "      <td>101,199,955.47</td>\n",
       "      <td>271,619,025.41</td>\n",
       "    </tr>\n",
       "  </tbody>\n",
       "</table>\n",
       "<p>3 rows × 21 columns</p>\n",
       "</div>"
      ],
      "text/plain": [
       "       id    imdb_id  popularity     budget     revenue      original_title  \\\n",
       "0  135397  tt0369610       32.99  150000000  1513528810      Jurassic World   \n",
       "1   76341  tt1392190       28.42  150000000   378436354  Mad Max: Fury Road   \n",
       "2  262500  tt2908446       13.11  110000000   295238201           Insurgent   \n",
       "\n",
       "                                                cast  \\\n",
       "0  Chris Pratt|Bryce Dallas Howard|Irrfan Khan|Vi...   \n",
       "1  Tom Hardy|Charlize Theron|Hugh Keays-Byrne|Nic...   \n",
       "2  Shailene Woodley|Theo James|Kate Winslet|Ansel...   \n",
       "\n",
       "                                         homepage          director  \\\n",
       "0                   http://www.jurassicworld.com/   Colin Trevorrow   \n",
       "1                     http://www.madmaxmovie.com/     George Miller   \n",
       "2  http://www.thedivergentseries.movie/#insurgent  Robert Schwentke   \n",
       "\n",
       "                      tagline  ...  \\\n",
       "0           The park is open.  ...   \n",
       "1          What a Lovely Day.  ...   \n",
       "2  One Choice Can Destroy You  ...   \n",
       "\n",
       "                                            overview runtime  \\\n",
       "0  Twenty-two years after the events of Jurassic ...     124   \n",
       "1  An apocalyptic story set in the furthest reach...     120   \n",
       "2  Beatrice Prior must confront her inner demons ...     119   \n",
       "\n",
       "                                      genres  \\\n",
       "0  Action|Adventure|Science Fiction|Thriller   \n",
       "1  Action|Adventure|Science Fiction|Thriller   \n",
       "2         Adventure|Science Fiction|Thriller   \n",
       "\n",
       "                                production_companies release_date vote_count  \\\n",
       "0  Universal Studios|Amblin Entertainment|Legenda...       6/9/15       5562   \n",
       "1  Village Roadshow Pictures|Kennedy Miller Produ...      5/13/15       6185   \n",
       "2  Summit Entertainment|Mandeville Films|Red Wago...      3/18/15       2480   \n",
       "\n",
       "   vote_average  release_year     budget_adj      revenue_adj  \n",
       "0          6.50          2015 137,999,939.28 1,392,445,892.52  \n",
       "1          7.10          2015 137,999,939.28   348,161,292.49  \n",
       "2          6.30          2015 101,199,955.47   271,619,025.41  \n",
       "\n",
       "[3 rows x 21 columns]"
      ]
     },
     "execution_count": 495,
     "metadata": {},
     "output_type": "execute_result"
    }
   ],
   "source": [
    "df = pd.read_csv('tmdb-movies.csv')\n",
    "df.head(3)\n"
   ]
  },
  {
   "cell_type": "code",
   "execution_count": 496,
   "id": "2b9facc3",
   "metadata": {},
   "outputs": [
    {
     "data": {
      "text/plain": [
       "(10866, 21)"
      ]
     },
     "execution_count": 496,
     "metadata": {},
     "output_type": "execute_result"
    }
   ],
   "source": [
    "df.shape"
   ]
  },
  {
   "cell_type": "code",
   "execution_count": 497,
   "id": "262efac2",
   "metadata": {},
   "outputs": [
    {
     "name": "stdout",
     "output_type": "stream",
     "text": [
      "<class 'pandas.core.frame.DataFrame'>\n",
      "RangeIndex: 10866 entries, 0 to 10865\n",
      "Data columns (total 21 columns):\n",
      " #   Column                Non-Null Count  Dtype  \n",
      "---  ------                --------------  -----  \n",
      " 0   id                    10866 non-null  int64  \n",
      " 1   imdb_id               10856 non-null  object \n",
      " 2   popularity            10866 non-null  float64\n",
      " 3   budget                10866 non-null  int64  \n",
      " 4   revenue               10866 non-null  int64  \n",
      " 5   original_title        10866 non-null  object \n",
      " 6   cast                  10790 non-null  object \n",
      " 7   homepage              2936 non-null   object \n",
      " 8   director              10822 non-null  object \n",
      " 9   tagline               8042 non-null   object \n",
      " 10  keywords              9373 non-null   object \n",
      " 11  overview              10862 non-null  object \n",
      " 12  runtime               10866 non-null  int64  \n",
      " 13  genres                10843 non-null  object \n",
      " 14  production_companies  9836 non-null   object \n",
      " 15  release_date          10866 non-null  object \n",
      " 16  vote_count            10866 non-null  int64  \n",
      " 17  vote_average          10866 non-null  float64\n",
      " 18  release_year          10866 non-null  int64  \n",
      " 19  budget_adj            10866 non-null  float64\n",
      " 20  revenue_adj           10866 non-null  float64\n",
      "dtypes: float64(4), int64(6), object(11)\n",
      "memory usage: 1.7+ MB\n"
     ]
    }
   ],
   "source": [
    "#checking datatype\n",
    "df.info()"
   ]
  },
  {
   "cell_type": "code",
   "execution_count": 498,
   "id": "324499af",
   "metadata": {},
   "outputs": [
    {
     "data": {
      "text/html": [
       "<div>\n",
       "<style scoped>\n",
       "    .dataframe tbody tr th:only-of-type {\n",
       "        vertical-align: middle;\n",
       "    }\n",
       "\n",
       "    .dataframe tbody tr th {\n",
       "        vertical-align: top;\n",
       "    }\n",
       "\n",
       "    .dataframe thead th {\n",
       "        text-align: right;\n",
       "    }\n",
       "</style>\n",
       "<table border=\"1\" class=\"dataframe\">\n",
       "  <thead>\n",
       "    <tr style=\"text-align: right;\">\n",
       "      <th></th>\n",
       "      <th>id</th>\n",
       "      <th>popularity</th>\n",
       "      <th>budget</th>\n",
       "      <th>revenue</th>\n",
       "      <th>runtime</th>\n",
       "      <th>vote_count</th>\n",
       "      <th>vote_average</th>\n",
       "      <th>release_year</th>\n",
       "      <th>budget_adj</th>\n",
       "      <th>revenue_adj</th>\n",
       "    </tr>\n",
       "  </thead>\n",
       "  <tbody>\n",
       "    <tr>\n",
       "      <th>count</th>\n",
       "      <td>10,866.00</td>\n",
       "      <td>10,866.00</td>\n",
       "      <td>10,866.00</td>\n",
       "      <td>10,866.00</td>\n",
       "      <td>10,866.00</td>\n",
       "      <td>10,866.00</td>\n",
       "      <td>10,866.00</td>\n",
       "      <td>10,866.00</td>\n",
       "      <td>10,866.00</td>\n",
       "      <td>10,866.00</td>\n",
       "    </tr>\n",
       "    <tr>\n",
       "      <th>mean</th>\n",
       "      <td>66,064.18</td>\n",
       "      <td>0.65</td>\n",
       "      <td>14,625,701.09</td>\n",
       "      <td>39,823,319.79</td>\n",
       "      <td>102.07</td>\n",
       "      <td>217.39</td>\n",
       "      <td>5.97</td>\n",
       "      <td>2,001.32</td>\n",
       "      <td>17,551,039.82</td>\n",
       "      <td>51,364,363.25</td>\n",
       "    </tr>\n",
       "    <tr>\n",
       "      <th>std</th>\n",
       "      <td>92,130.14</td>\n",
       "      <td>1.00</td>\n",
       "      <td>30,913,213.83</td>\n",
       "      <td>117,003,486.58</td>\n",
       "      <td>31.38</td>\n",
       "      <td>575.62</td>\n",
       "      <td>0.94</td>\n",
       "      <td>12.81</td>\n",
       "      <td>34,306,155.72</td>\n",
       "      <td>144,632,485.04</td>\n",
       "    </tr>\n",
       "    <tr>\n",
       "      <th>min</th>\n",
       "      <td>5.00</td>\n",
       "      <td>0.00</td>\n",
       "      <td>0.00</td>\n",
       "      <td>0.00</td>\n",
       "      <td>0.00</td>\n",
       "      <td>10.00</td>\n",
       "      <td>1.50</td>\n",
       "      <td>1,960.00</td>\n",
       "      <td>0.00</td>\n",
       "      <td>0.00</td>\n",
       "    </tr>\n",
       "    <tr>\n",
       "      <th>25%</th>\n",
       "      <td>10,596.25</td>\n",
       "      <td>0.21</td>\n",
       "      <td>0.00</td>\n",
       "      <td>0.00</td>\n",
       "      <td>90.00</td>\n",
       "      <td>17.00</td>\n",
       "      <td>5.40</td>\n",
       "      <td>1,995.00</td>\n",
       "      <td>0.00</td>\n",
       "      <td>0.00</td>\n",
       "    </tr>\n",
       "    <tr>\n",
       "      <th>50%</th>\n",
       "      <td>20,669.00</td>\n",
       "      <td>0.38</td>\n",
       "      <td>0.00</td>\n",
       "      <td>0.00</td>\n",
       "      <td>99.00</td>\n",
       "      <td>38.00</td>\n",
       "      <td>6.00</td>\n",
       "      <td>2,006.00</td>\n",
       "      <td>0.00</td>\n",
       "      <td>0.00</td>\n",
       "    </tr>\n",
       "    <tr>\n",
       "      <th>75%</th>\n",
       "      <td>75,610.00</td>\n",
       "      <td>0.71</td>\n",
       "      <td>15,000,000.00</td>\n",
       "      <td>24,000,000.00</td>\n",
       "      <td>111.00</td>\n",
       "      <td>145.75</td>\n",
       "      <td>6.60</td>\n",
       "      <td>2,011.00</td>\n",
       "      <td>20,853,251.08</td>\n",
       "      <td>33,697,095.72</td>\n",
       "    </tr>\n",
       "    <tr>\n",
       "      <th>max</th>\n",
       "      <td>417,859.00</td>\n",
       "      <td>32.99</td>\n",
       "      <td>425,000,000.00</td>\n",
       "      <td>2,781,505,847.00</td>\n",
       "      <td>900.00</td>\n",
       "      <td>9,767.00</td>\n",
       "      <td>9.20</td>\n",
       "      <td>2,015.00</td>\n",
       "      <td>425,000,000.00</td>\n",
       "      <td>2,827,123,750.41</td>\n",
       "    </tr>\n",
       "  </tbody>\n",
       "</table>\n",
       "</div>"
      ],
      "text/plain": [
       "              id  popularity         budget          revenue   runtime  \\\n",
       "count  10,866.00   10,866.00      10,866.00        10,866.00 10,866.00   \n",
       "mean   66,064.18        0.65  14,625,701.09    39,823,319.79    102.07   \n",
       "std    92,130.14        1.00  30,913,213.83   117,003,486.58     31.38   \n",
       "min         5.00        0.00           0.00             0.00      0.00   \n",
       "25%    10,596.25        0.21           0.00             0.00     90.00   \n",
       "50%    20,669.00        0.38           0.00             0.00     99.00   \n",
       "75%    75,610.00        0.71  15,000,000.00    24,000,000.00    111.00   \n",
       "max   417,859.00       32.99 425,000,000.00 2,781,505,847.00    900.00   \n",
       "\n",
       "       vote_count  vote_average  release_year     budget_adj      revenue_adj  \n",
       "count   10,866.00     10,866.00     10,866.00      10,866.00        10,866.00  \n",
       "mean       217.39          5.97      2,001.32  17,551,039.82    51,364,363.25  \n",
       "std        575.62          0.94         12.81  34,306,155.72   144,632,485.04  \n",
       "min         10.00          1.50      1,960.00           0.00             0.00  \n",
       "25%         17.00          5.40      1,995.00           0.00             0.00  \n",
       "50%         38.00          6.00      2,006.00           0.00             0.00  \n",
       "75%        145.75          6.60      2,011.00  20,853,251.08    33,697,095.72  \n",
       "max      9,767.00          9.20      2,015.00 425,000,000.00 2,827,123,750.41  "
      ]
     },
     "execution_count": 498,
     "metadata": {},
     "output_type": "execute_result"
    }
   ],
   "source": [
    "#showing basic statistics.\n",
    "df.describe()"
   ]
  },
  {
   "cell_type": "code",
   "execution_count": 499,
   "id": "b6c72114",
   "metadata": {},
   "outputs": [
    {
     "data": {
      "text/plain": [
       "id                         0\n",
       "imdb_id                   10\n",
       "popularity                 0\n",
       "budget                     0\n",
       "revenue                    0\n",
       "original_title             0\n",
       "cast                      76\n",
       "homepage                7930\n",
       "director                  44\n",
       "tagline                 2824\n",
       "keywords                1493\n",
       "overview                   4\n",
       "runtime                    0\n",
       "genres                    23\n",
       "production_companies    1030\n",
       "release_date               0\n",
       "vote_count                 0\n",
       "vote_average               0\n",
       "release_year               0\n",
       "budget_adj                 0\n",
       "revenue_adj                0\n",
       "dtype: int64"
      ]
     },
     "execution_count": 499,
     "metadata": {},
     "output_type": "execute_result"
    }
   ],
   "source": [
    "df.isna().sum()"
   ]
  },
  {
   "cell_type": "code",
   "execution_count": 500,
   "id": "6d9eb5a4",
   "metadata": {},
   "outputs": [],
   "source": [
    "#dropping unnecessary columns\n",
    "\n",
    "df = df.drop(columns= ['tagline','keywords','homepage','overview'], axis = 1)\n"
   ]
  },
  {
   "cell_type": "code",
   "execution_count": 501,
   "id": "fb8cc671",
   "metadata": {},
   "outputs": [
    {
     "data": {
      "text/plain": [
       "(10866, 17)"
      ]
     },
     "execution_count": 501,
     "metadata": {},
     "output_type": "execute_result"
    }
   ],
   "source": [
    "\n",
    "df.shape"
   ]
  },
  {
   "cell_type": "code",
   "execution_count": 502,
   "id": "5917d9fd",
   "metadata": {},
   "outputs": [],
   "source": [
    "#removing NaN data from cast, genres and zero budgest from movies.\n",
    "\n",
    "df = df[df[\"cast\"].isnull() == False]\n",
    "df = df[df[\"genres\"].isnull() == False]\n",
    "\n",
    "df = df[df.budget_adj != 0]\n",
    "df = df[df.revenue_adj != 0]"
   ]
  },
  {
   "cell_type": "code",
   "execution_count": 503,
   "id": "61b66ae9",
   "metadata": {},
   "outputs": [],
   "source": [
    "# removing duplicates\n",
    "df.duplicated().sum()\n",
    "df.drop_duplicates(inplace = True)"
   ]
  },
  {
   "cell_type": "markdown",
   "id": "90b4bea4",
   "metadata": {},
   "source": [
    "## Top 5 grossed movies"
   ]
  },
  {
   "cell_type": "code",
   "execution_count": 504,
   "id": "c2258d6e",
   "metadata": {},
   "outputs": [
    {
     "data": {
      "text/html": [
       "<div>\n",
       "<style scoped>\n",
       "    .dataframe tbody tr th:only-of-type {\n",
       "        vertical-align: middle;\n",
       "    }\n",
       "\n",
       "    .dataframe tbody tr th {\n",
       "        vertical-align: top;\n",
       "    }\n",
       "\n",
       "    .dataframe thead th {\n",
       "        text-align: right;\n",
       "    }\n",
       "</style>\n",
       "<table border=\"1\" class=\"dataframe\">\n",
       "  <thead>\n",
       "    <tr style=\"text-align: right;\">\n",
       "      <th></th>\n",
       "      <th>index</th>\n",
       "      <th>revenue</th>\n",
       "      <th>original_title</th>\n",
       "    </tr>\n",
       "  </thead>\n",
       "  <tbody>\n",
       "    <tr>\n",
       "      <th>0</th>\n",
       "      <td>1386</td>\n",
       "      <td>2781505847</td>\n",
       "      <td>Avatar</td>\n",
       "    </tr>\n",
       "    <tr>\n",
       "      <th>1</th>\n",
       "      <td>3</td>\n",
       "      <td>2068178225</td>\n",
       "      <td>Star Wars: The Force Awakens</td>\n",
       "    </tr>\n",
       "    <tr>\n",
       "      <th>2</th>\n",
       "      <td>5231</td>\n",
       "      <td>1845034188</td>\n",
       "      <td>Titanic</td>\n",
       "    </tr>\n",
       "    <tr>\n",
       "      <th>3</th>\n",
       "      <td>4361</td>\n",
       "      <td>1519557910</td>\n",
       "      <td>The Avengers</td>\n",
       "    </tr>\n",
       "    <tr>\n",
       "      <th>4</th>\n",
       "      <td>0</td>\n",
       "      <td>1513528810</td>\n",
       "      <td>Jurassic World</td>\n",
       "    </tr>\n",
       "  </tbody>\n",
       "</table>\n",
       "</div>"
      ],
      "text/plain": [
       "   index     revenue                original_title\n",
       "0   1386  2781505847                        Avatar\n",
       "1      3  2068178225  Star Wars: The Force Awakens\n",
       "2   5231  1845034188                       Titanic\n",
       "3   4361  1519557910                  The Avengers\n",
       "4      0  1513528810                Jurassic World"
      ]
     },
     "execution_count": 504,
     "metadata": {},
     "output_type": "execute_result"
    }
   ],
   "source": [
    "\n",
    "df_grossing = df[['revenue','original_title']].sort_values(by= 'revenue', ascending = False).head(5).reset_index()\n",
    "\n",
    "df_grossing\n"
   ]
  },
  {
   "cell_type": "code",
   "execution_count": 505,
   "id": "962ba711",
   "metadata": {},
   "outputs": [
    {
     "name": "stdout",
     "output_type": "stream",
     "text": [
      "0                          Avatar\n",
      "1    Star Wars: The Force Awakens\n",
      "2                         Titanic\n",
      "3                    The Avengers\n",
      "4                  Jurassic World\n",
      "Name: original_title, dtype: object\n"
     ]
    },
    {
     "data": {
      "text/plain": [
       "<BarContainer object of 5 artists>"
      ]
     },
     "execution_count": 505,
     "metadata": {},
     "output_type": "execute_result"
    },
    {
     "data": {
      "image/png": "[encoded data removed]",
      "text/plain": [
       "<Figure size 432x288 with 1 Axes>"
      ]
     },
     "metadata": {
      "needs_background": "light"
     },
     "output_type": "display_data"
    }
   ],
   "source": [
    "x = df_grossing['original_title']\n",
    "print(x)\n",
    "y = df_grossing['revenue']\n",
    "plt.title('Top 5 Grossing Movies')\n",
    "plt.xlabel('Movie Title')\n",
    "plt.ylabel('Revenue Generated')\n",
    "plt.xticks(rotation=75)\n",
    "plt.bar(x,y, color='green')"
   ]
  },
  {
   "cell_type": "markdown",
   "id": "19fb8825",
   "metadata": {},
   "source": [
    "## 2. Highest Average Revenue By Year"
   ]
  },
  {
   "cell_type": "code",
   "execution_count": 506,
   "id": "633bd598",
   "metadata": {},
   "outputs": [
    {
     "data": {
      "text/plain": [
       "release_year\n",
       "1960   25,801,000.00\n",
       "1961   33,772,018.80\n",
       "1962   29,475,692.29\n",
       "1963   29,421,147.00\n",
       "1964   46,944,792.57\n",
       "Name: revenue, dtype: float64"
      ]
     },
     "execution_count": 506,
     "metadata": {},
     "output_type": "execute_result"
    }
   ],
   "source": [
    "ave_revenue = df.groupby('release_year').revenue.mean()\n",
    "ave_revenue.head(5)"
   ]
  },
  {
   "cell_type": "markdown",
   "id": "10288c1b",
   "metadata": {},
   "source": [
    "## 2a. Factors that may affect revenue"
   ]
  },
  {
   "cell_type": "code",
   "execution_count": 507,
   "id": "f3743cee",
   "metadata": {},
   "outputs": [
    {
     "data": {
      "text/html": [
       "<div>\n",
       "<style scoped>\n",
       "    .dataframe tbody tr th:only-of-type {\n",
       "        vertical-align: middle;\n",
       "    }\n",
       "\n",
       "    .dataframe tbody tr th {\n",
       "        vertical-align: top;\n",
       "    }\n",
       "\n",
       "    .dataframe thead th {\n",
       "        text-align: right;\n",
       "    }\n",
       "</style>\n",
       "<table border=\"1\" class=\"dataframe\">\n",
       "  <thead>\n",
       "    <tr style=\"text-align: right;\">\n",
       "      <th></th>\n",
       "      <th>runtime</th>\n",
       "      <th>revenue</th>\n",
       "    </tr>\n",
       "  </thead>\n",
       "  <tbody>\n",
       "    <tr>\n",
       "      <th>count</th>\n",
       "      <td>3,848.00</td>\n",
       "      <td>3,848.00</td>\n",
       "    </tr>\n",
       "    <tr>\n",
       "      <th>mean</th>\n",
       "      <td>109.23</td>\n",
       "      <td>107,801,220.88</td>\n",
       "    </tr>\n",
       "    <tr>\n",
       "      <th>std</th>\n",
       "      <td>19.93</td>\n",
       "      <td>176,628,456.20</td>\n",
       "    </tr>\n",
       "    <tr>\n",
       "      <th>min</th>\n",
       "      <td>15.00</td>\n",
       "      <td>2.00</td>\n",
       "    </tr>\n",
       "    <tr>\n",
       "      <th>25%</th>\n",
       "      <td>95.00</td>\n",
       "      <td>13,617,405.25</td>\n",
       "    </tr>\n",
       "    <tr>\n",
       "      <th>50%</th>\n",
       "      <td>106.00</td>\n",
       "      <td>44,884,723.50</td>\n",
       "    </tr>\n",
       "    <tr>\n",
       "      <th>75%</th>\n",
       "      <td>119.00</td>\n",
       "      <td>124,377,985.25</td>\n",
       "    </tr>\n",
       "    <tr>\n",
       "      <th>max</th>\n",
       "      <td>338.00</td>\n",
       "      <td>2,781,505,847.00</td>\n",
       "    </tr>\n",
       "  </tbody>\n",
       "</table>\n",
       "</div>"
      ],
      "text/plain": [
       "       runtime          revenue\n",
       "count 3,848.00         3,848.00\n",
       "mean    109.23   107,801,220.88\n",
       "std      19.93   176,628,456.20\n",
       "min      15.00             2.00\n",
       "25%      95.00    13,617,405.25\n",
       "50%     106.00    44,884,723.50\n",
       "75%     119.00   124,377,985.25\n",
       "max     338.00 2,781,505,847.00"
      ]
     },
     "execution_count": 507,
     "metadata": {},
     "output_type": "execute_result"
    }
   ],
   "source": [
    "#revenue-duration relationship\n",
    "revenue_duration = df.groupby(['original_title', 'runtime'], as_index=False)['revenue'].mean()\n",
    "revenue_duration.describe()\n"
   ]
  },
  {
   "cell_type": "markdown",
   "id": "b44cfcab",
   "metadata": {},
   "source": [
    "## 3. Directors with high revenue movies"
   ]
  },
  {
   "cell_type": "code",
   "execution_count": 508,
   "id": "90c50b10",
   "metadata": {},
   "outputs": [
    {
     "data": {
      "text/plain": [
       "director\n",
       "Chris Buck|Jennifer Lee                     1,274,219,009.00\n",
       "Kyle Balda|Pierre Coffin                    1,156,730,962.00\n",
       "Irwin Winkler                               1,106,279,658.00\n",
       "Lee Unkrich                                 1,063,171,911.00\n",
       "David Yates                                 1,038,573,906.25\n",
       "Andrew Adamson|Kelly Asbury|Conrad Vernon     919,838,758.00\n",
       "Steve Martino|Mike Thurmeier                  877,244,782.00\n",
       "Name: revenue, dtype: float64"
      ]
     },
     "execution_count": 508,
     "metadata": {},
     "output_type": "execute_result"
    }
   ],
   "source": [
    "df_directors = df.groupby('director').revenue.mean().sort_values(ascending = False).head(7)\n",
    "df_directors\n"
   ]
  },
  {
   "cell_type": "code",
   "execution_count": 509,
   "id": "9e499a2c",
   "metadata": {},
   "outputs": [
    {
     "data": {
      "image/png": "[encoded data removed]",
      "text/plain": [
       "<Figure size 432x288 with 1 Axes>"
      ]
     },
     "metadata": {},
     "output_type": "display_data"
    }
   ],
   "source": [
    "labels = ['Chris Buck|Jennifer Lee','Kyle Balda|Pierre Coffin','Irwin Winkler','Lee Unkrich','David Yates']\n",
    "revenue = [1274219009, 1156730962, 1106279658, 1063171911, 1038573906]\n",
    "\n",
    "explode = (0.1, 0, 0, 0,0)\n",
    "fig1, ax1 = plt.subplots()\n",
    "ax1.pie(revenue, explode=explode, labels=labels, autopct='%1.1f%%',\n",
    "        shadow=True, startangle=90)\n",
    "ax1.axis('equal')\n",
    "plt.show()\n",
    "# fig = plt.figure(figsize =(10, 7))\n",
    "# plt.pie(revenue, labels = labels)\n",
    "# plt.show()"
   ]
  },
  {
   "cell_type": "markdown",
   "id": "c4c44546",
   "metadata": {},
   "source": [
    " - Generally, revenue increases with duration\n",
    " - Also, the abouve directors are known for highe revenue generating movies   "
   ]
  },
  {
   "cell_type": "markdown",
   "id": "b058005b",
   "metadata": {},
   "source": [
    "## 4.Top Rated Directors by Vote"
   ]
  },
  {
   "cell_type": "code",
   "execution_count": 510,
   "id": "83e10eba",
   "metadata": {},
   "outputs": [
    {
     "data": {
      "text/plain": [
       "director\n",
       "Damien Chazelle    8.20\n",
       "Lenny Abrahamson   8.00\n",
       "Tony Kaye          8.00\n",
       "Pete Docter        8.00\n",
       "Morten Tyldum      8.00\n",
       "Name: vote_average, dtype: float64"
      ]
     },
     "execution_count": 510,
     "metadata": {},
     "output_type": "execute_result"
    }
   ],
   "source": [
    "df_rated_directors = df.groupby('director').vote_average.mean().sort_values(ascending = False)\n",
    "df_rated_directors.head(5)"
   ]
  },
  {
   "cell_type": "markdown",
   "id": "f0549767",
   "metadata": {},
   "source": [
    " - The results shows that even, a director highly rated does not necesarily mean they churned a high grossing movie\n",
    " - This is because for directors who were in the top 5 based on revenue, generated, they are not in the list of most voted for direcotrs"
   ]
  },
  {
   "cell_type": "markdown",
   "id": "095cedaf",
   "metadata": {},
   "source": [
    "## 5. Which year has most movies released and did those year generated the most revenue?"
   ]
  },
  {
   "cell_type": "code",
   "execution_count": 511,
   "id": "5f202d1e",
   "metadata": {},
   "outputs": [
    {
     "data": {
      "text/plain": [
       "2011    199\n",
       "2013    180\n",
       "2010    178\n",
       "2009    174\n",
       "2006    169\n",
       "Name: release_year, dtype: int64"
      ]
     },
     "execution_count": 511,
     "metadata": {},
     "output_type": "execute_result"
    }
   ],
   "source": [
    "most_release = df['release_year'].value_counts().head(5)\n",
    "most_release"
   ]
  },
  {
   "cell_type": "code",
   "execution_count": 512,
   "id": "a076a445",
   "metadata": {},
   "outputs": [],
   "source": [
    "# mos = df.loc[df['release_year'].isin([2011, 2013, 2010, 2009,2006])] ##works\n",
    "pd.options.display.float_format = '{:,.2f}'.format\n",
    "revenue_2011 = df.loc[df['release_year'] == 2011]\n",
    "revenue_2013 = df.loc[df['release_year'] == 2013]\n",
    "revenue_2010 = df.loc[df['release_year'] == 2010]\n",
    "revenue_2009 = df.loc[df['release_year'] == 2009]\n",
    "revenue_2006 = df.loc[df['release_year'] == 2006]\n",
    "\n",
    "value_11 = revenue_2011.revenue.sum()\n",
    "value_13 = revenue_2013.revenue.sum()\n",
    "value_10 = revenue_2010.revenue.sum()\n",
    "value_09 = revenue_2009.revenue.sum()\n",
    "value_06 = revenue_2006.revenue.sum()\n",
    "c = [value_11,value_13,value_10, value_09,value_06]\n"
   ]
  },
  {
   "cell_type": "code",
   "execution_count": 513,
   "id": "6be367e7",
   "metadata": {},
   "outputs": [
    {
     "name": "stdout",
     "output_type": "stream",
     "text": [
      "[23408245247, 24350666103, 21804360476, 21607132990, 15640517999]\n"
     ]
    },
    {
     "data": {
      "image/png": "[encoded data removed]",
      "text/plain": [
       "<Figure size 432x288 with 1 Axes>"
      ]
     },
     "metadata": {
      "needs_background": "light"
     },
     "output_type": "display_data"
    }
   ],
   "source": [
    "a = [2011,2013,2010,2009, 2006]\n",
    "b = [199, 180,178,174,169]\n",
    "c = [value_11,value_13,value_10, value_09,value_06]\n",
    "print(c)\n",
    "df_bar = pd.DataFrame({'Year':['2011','2013','2010','2009', '2006'],\n",
    "                   'Released_most':[199, 180,178,174,16],\n",
    "                   'Revenue': [value_11,value_13,value_10, value_09,value_06]})\n",
    "sns.barplot(x='Year', y='Released_most', hue='Revenue', data=df_bar)\n",
    "plt.show()"
   ]
  },
  {
   "cell_type": "markdown",
   "id": "55501899",
   "metadata": {},
   "source": [
    " - The plot above shows that, the years with most releases did not earn the most revenue respectively. Thus, more release does not equate to more revenue generated in that year"
   ]
  },
  {
   "cell_type": "markdown",
   "id": "a29e4aab",
   "metadata": {},
   "source": [
    "### 6. What are the top 10 most lenghty movies"
   ]
  },
  {
   "cell_type": "code",
   "execution_count": 514,
   "id": "53e9e0c1",
   "metadata": {},
   "outputs": [
    {
     "data": {
      "text/html": [
       "<div>\n",
       "<style scoped>\n",
       "    .dataframe tbody tr th:only-of-type {\n",
       "        vertical-align: middle;\n",
       "    }\n",
       "\n",
       "    .dataframe tbody tr th {\n",
       "        vertical-align: top;\n",
       "    }\n",
       "\n",
       "    .dataframe thead th {\n",
       "        text-align: right;\n",
       "    }\n",
       "</style>\n",
       "<table border=\"1\" class=\"dataframe\">\n",
       "  <thead>\n",
       "    <tr style=\"text-align: right;\">\n",
       "      <th></th>\n",
       "      <th>index</th>\n",
       "      <th>original_title</th>\n",
       "      <th>runtime</th>\n",
       "    </tr>\n",
       "  </thead>\n",
       "  <tbody>\n",
       "    <tr>\n",
       "      <th>0</th>\n",
       "      <td>2107</td>\n",
       "      <td>Carlos</td>\n",
       "      <td>338</td>\n",
       "    </tr>\n",
       "    <tr>\n",
       "      <th>1</th>\n",
       "      <td>10443</td>\n",
       "      <td>Cleopatra</td>\n",
       "      <td>248</td>\n",
       "    </tr>\n",
       "    <tr>\n",
       "      <th>2</th>\n",
       "      <td>7332</td>\n",
       "      <td>Heaven's Gate</td>\n",
       "      <td>219</td>\n",
       "    </tr>\n",
       "    <tr>\n",
       "      <th>3</th>\n",
       "      <td>9850</td>\n",
       "      <td>Lawrence of Arabia</td>\n",
       "      <td>216</td>\n",
       "    </tr>\n",
       "    <tr>\n",
       "      <th>4</th>\n",
       "      <td>5065</td>\n",
       "      <td>Gods and Generals</td>\n",
       "      <td>214</td>\n",
       "    </tr>\n",
       "    <tr>\n",
       "      <th>5</th>\n",
       "      <td>3110</td>\n",
       "      <td>Jodhaa Akbar</td>\n",
       "      <td>213</td>\n",
       "    </tr>\n",
       "    <tr>\n",
       "      <th>6</th>\n",
       "      <td>8282</td>\n",
       "      <td>Malcolm X</td>\n",
       "      <td>202</td>\n",
       "    </tr>\n",
       "    <tr>\n",
       "      <th>7</th>\n",
       "      <td>4949</td>\n",
       "      <td>The Lord of the Rings: The Return of the King</td>\n",
       "      <td>201</td>\n",
       "    </tr>\n",
       "    <tr>\n",
       "      <th>8</th>\n",
       "      <td>9758</td>\n",
       "      <td>The Godfather: Part II</td>\n",
       "      <td>200</td>\n",
       "    </tr>\n",
       "    <tr>\n",
       "      <th>9</th>\n",
       "      <td>10716</td>\n",
       "      <td>The Greatest Story Ever Told</td>\n",
       "      <td>199</td>\n",
       "    </tr>\n",
       "  </tbody>\n",
       "</table>\n",
       "</div>"
      ],
      "text/plain": [
       "   index                                 original_title  runtime\n",
       "0   2107                                         Carlos      338\n",
       "1  10443                                      Cleopatra      248\n",
       "2   7332                                  Heaven's Gate      219\n",
       "3   9850                             Lawrence of Arabia      216\n",
       "4   5065                              Gods and Generals      214\n",
       "5   3110                                   Jodhaa Akbar      213\n",
       "6   8282                                      Malcolm X      202\n",
       "7   4949  The Lord of the Rings: The Return of the King      201\n",
       "8   9758                         The Godfather: Part II      200\n",
       "9  10716                   The Greatest Story Ever Told      199"
      ]
     },
     "execution_count": 514,
     "metadata": {},
     "output_type": "execute_result"
    }
   ],
   "source": [
    "most_lengthy = df.nlargest(10, 'runtime')[['original_title','runtime']].reset_index()\n",
    "most_lengthy"
   ]
  },
  {
   "cell_type": "code",
   "execution_count": 515,
   "id": "77bc7504",
   "metadata": {},
   "outputs": [
    {
     "data": {
      "image/png": "[encoded data removed]",
      "text/plain": [
       "<Figure size 432x288 with 1 Axes>"
      ]
     },
     "metadata": {
      "needs_background": "light"
     },
     "output_type": "display_data"
    }
   ],
   "source": [
    "sns.barplot(x='original_title', y = most_lengthy.runtime, data = most_lengthy)\n",
    "plt.xticks(rotation=90)\n",
    "plt.show()"
   ]
  },
  {
   "cell_type": "markdown",
   "id": "c7488435",
   "metadata": {},
   "source": [
    "## 7. Year with highest voting Participants"
   ]
  },
  {
   "cell_type": "code",
   "execution_count": 516,
   "id": "237b450e",
   "metadata": {},
   "outputs": [
    {
     "data": {
      "text/plain": [
       "release_year\n",
       "2014   1,029.83\n",
       "2012   1,023.04\n",
       "2013   1,014.48\n",
       "2015     971.06\n",
       "2010     648.76\n",
       "Name: vote_count, dtype: float64"
      ]
     },
     "execution_count": 516,
     "metadata": {},
     "output_type": "execute_result"
    }
   ],
   "source": [
    "year_votes = df.groupby('release_year').vote_count.mean().sort_values(ascending = False).head(5)\n",
    "year_votes\n"
   ]
  },
  {
   "cell_type": "code",
   "execution_count": 517,
   "id": "dbb6aced",
   "metadata": {},
   "outputs": [
    {
     "data": {
      "image/png": "[encoded data removed]",
      "text/plain": [
       "<Figure size 432x288 with 1 Axes>"
      ]
     },
     "metadata": {
      "needs_background": "light"
     },
     "output_type": "display_data"
    }
   ],
   "source": [
    "x = ['2014','2012','2013','2015','2010']\n",
    "y = [1029.83,1023.04,1014.48,971.06,648.76]\n",
    "\n",
    "plt.bar(x,y)\n",
    "plt.xlabel('Years')\n",
    "plt.ylabel('Number of Voters')\n",
    "plt.title('Most participated Years of Votes')\n",
    "plt.show()"
   ]
  },
  {
   "cell_type": "markdown",
   "id": "f3e03a73",
   "metadata": {},
   "source": [
    "## 8. Most featured actors"
   ]
  },
  {
   "cell_type": "code",
   "execution_count": 518,
   "id": "a22ebedc",
   "metadata": {},
   "outputs": [
    {
     "data": {
      "text/plain": [
       "[('Robert De Niro', 52),\n",
       " ('Bruce Willis', 46),\n",
       " ('Samuel L. Jackson', 44),\n",
       " ('Nicolas Cage', 43),\n",
       " ('Matt Damon', 36),\n",
       " ('Johnny Depp', 35),\n",
       " ('Harrison Ford', 34),\n",
       " ('Brad Pitt', 34),\n",
       " ('Tom Hanks', 34),\n",
       " ('Sylvester Stallone', 34)]"
      ]
     },
     "execution_count": 518,
     "metadata": {},
     "output_type": "execute_result"
    }
   ],
   "source": [
    "list_of_actors = {}\n",
    "\n",
    "all_cast = df[\"cast\"]\n",
    "all_cast = all_cast.str.split(\"|\")\n",
    "all_cast = np.array(all_cast)\n",
    "for actors in all_cast:\n",
    "    \n",
    "    for actor in actors:\n",
    "        actor = actor.lstrip() #trim the whitespaces\n",
    "        if actor not in list_of_actors:\n",
    "            list_of_actors[actor] = 1\n",
    "        else:\n",
    "            list_of_actors[actor] += 1\n",
    "                \n",
    "\n",
    "\n",
    "sorted_actor_dict = sorted(list_of_actors.items(), key = operator.itemgetter(1), reverse = True)\n",
    "sorted_actor_dict[0:10]\n"
   ]
  },
  {
   "cell_type": "code",
   "execution_count": 519,
   "id": "25f89958",
   "metadata": {},
   "outputs": [
    {
     "data": {
      "image/png": "[encoded data removed]",
      "text/plain": [
       "<Figure size 432x288 with 1 Axes>"
      ]
     },
     "metadata": {
      "needs_background": "light"
     },
     "output_type": "display_data"
    }
   ],
   "source": [
    "x= [sorted_actor_dict[0][0],sorted_actor_dict[1][0],sorted_actor_dict[2][0],\n",
    "    sorted_actor_dict[3][0],sorted_actor_dict[4][0],\n",
    "    sorted_actor_dict[5][0],sorted_actor_dict[6][0],\n",
    "    sorted_actor_dict[7][0],sorted_actor_dict[8][0],sorted_actor_dict[9][0]]\n",
    "\n",
    "y = [sorted_actor_dict[0][1],sorted_actor_dict[1][1],sorted_actor_dict[2][1],sorted_actor_dict[3][1],sorted_actor_dict[4][1],\n",
    "    sorted_actor_dict[5][1],sorted_actor_dict[6][1],\n",
    "    sorted_actor_dict[7][1],sorted_actor_dict[8][1],sorted_actor_dict[9][1]]\n",
    "\n",
    "plt.bar(x,y, color= 'red')\n",
    "plt.xlabel('Cast Name')\n",
    "plt.ylabel('Number Featured')\n",
    "plt.title('Most featured Actors & Actresses')\n",
    "plt.xticks(rotation=85)\n",
    "\n",
    "plt.show()"
   ]
  },
  {
   "cell_type": "markdown",
   "id": "b3872c37",
   "metadata": {},
   "source": [
    "\n",
    "## Conclusion"
   ]
  },
  {
   "cell_type": "markdown",
   "id": "b0898e94",
   "metadata": {},
   "source": [
    "\n",
    "The initial 21 columns provided makes it relatively easier to work on the dataset,since there are enough data and information. However, not all of these columns were needed for the ananlysis and were dropped. It is worthy to note that it had few duplicates for a dataset this large. However, null values, and columns with zero values could be misleading since it gives a sense of correct data. It is apparent that these were incorrect, and this was a limitation of dataset, since these values had to be dropped. It was revealed that, some of the most voted directors, were not necessarily those with high grossing movies and In years where most movies were released, there was not a corresponding match for most revenue yields.Big name cast were most featured, with Nicolas Cage, Robert De Niro and Bruce Willis being amongst these big names.\n"
   ]
  }
 ],
 "metadata": {
  "kernelspec": {
   "display_name": "Python 3 (ipykernel)",
   "language": "python",
   "name": "python3"
  },
  "language_info": {
   "codemirror_mode": {
    "name": "ipython",
    "version": 3
   },
   "file_extension": ".py",
   "mimetype": "text/x-python",
   "name": "python",
   "nbconvert_exporter": "python",
   "pygments_lexer": "ipython3",
   "version": "3.9.12"
  }
 },
 "nbformat": 4,
 "nbformat_minor": 5
}
